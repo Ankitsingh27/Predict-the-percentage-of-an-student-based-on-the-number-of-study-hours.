{
 "cells": [
  {
   "cell_type": "markdown",
   "id": "d1c9c158",
   "metadata": {},
   "source": [
    "## Data Science and Business Analytics"
   ]
  },
  {
   "cell_type": "markdown",
   "id": "89102ac9",
   "metadata": {},
   "source": [
    "## The Sparks Foundation "
   ]
  },
  {
   "cell_type": "markdown",
   "id": "527f9a8f",
   "metadata": {},
   "source": [
    "## Author : Ankit singh"
   ]
  },
  {
   "cell_type": "markdown",
   "id": "938352db",
   "metadata": {},
   "source": [
    "### Internship"
   ]
  },
  {
   "cell_type": "markdown",
   "id": "3bb1a10b",
   "metadata": {},
   "source": [
    "### Presdiction with Supervised ML"
   ]
  },
  {
   "cell_type": "markdown",
   "id": "b9bce057",
   "metadata": {},
   "source": [
    "#### Task 1 - Predict the percentage of an student basrd on the number of study hours."
   ]
  },
  {
   "cell_type": "code",
   "execution_count": 1,
   "id": "ef4a8da1",
   "metadata": {},
   "outputs": [],
   "source": [
    "# Importing the Liberies\n",
    "import pandas as pd \n",
    "import numpy as np \n",
    "import matplotlib.pyplot as plt \n",
    "import seaborn as sns\n"
   ]
  },
  {
   "cell_type": "code",
   "execution_count": 2,
   "id": "b778041c",
   "metadata": {},
   "outputs": [
    {
     "data": {
      "text/html": [
       "<div>\n",
       "<style scoped>\n",
       "    .dataframe tbody tr th:only-of-type {\n",
       "        vertical-align: middle;\n",
       "    }\n",
       "\n",
       "    .dataframe tbody tr th {\n",
       "        vertical-align: top;\n",
       "    }\n",
       "\n",
       "    .dataframe thead th {\n",
       "        text-align: right;\n",
       "    }\n",
       "</style>\n",
       "<table border=\"1\" class=\"dataframe\">\n",
       "  <thead>\n",
       "    <tr style=\"text-align: right;\">\n",
       "      <th></th>\n",
       "      <th>Hours</th>\n",
       "      <th>Scores</th>\n",
       "    </tr>\n",
       "  </thead>\n",
       "  <tbody>\n",
       "    <tr>\n",
       "      <th>0</th>\n",
       "      <td>2.5</td>\n",
       "      <td>21</td>\n",
       "    </tr>\n",
       "    <tr>\n",
       "      <th>1</th>\n",
       "      <td>5.1</td>\n",
       "      <td>47</td>\n",
       "    </tr>\n",
       "    <tr>\n",
       "      <th>2</th>\n",
       "      <td>3.2</td>\n",
       "      <td>27</td>\n",
       "    </tr>\n",
       "    <tr>\n",
       "      <th>3</th>\n",
       "      <td>8.5</td>\n",
       "      <td>75</td>\n",
       "    </tr>\n",
       "    <tr>\n",
       "      <th>4</th>\n",
       "      <td>3.5</td>\n",
       "      <td>30</td>\n",
       "    </tr>\n",
       "  </tbody>\n",
       "</table>\n",
       "</div>"
      ],
      "text/plain": [
       "   Hours  Scores\n",
       "0    2.5      21\n",
       "1    5.1      47\n",
       "2    3.2      27\n",
       "3    8.5      75\n",
       "4    3.5      30"
      ]
     },
     "execution_count": 2,
     "metadata": {},
     "output_type": "execute_result"
    }
   ],
   "source": [
    "# importing data by pandas labrary\n",
    "url= \"http://bit.ly/w-data\"\n",
    "df= pd.read_csv(url)\n",
    "df.head()"
   ]
  },
  {
   "cell_type": "code",
   "execution_count": 3,
   "id": "bcdf9fcd",
   "metadata": {},
   "outputs": [
    {
     "data": {
      "text/html": [
       "<div>\n",
       "<style scoped>\n",
       "    .dataframe tbody tr th:only-of-type {\n",
       "        vertical-align: middle;\n",
       "    }\n",
       "\n",
       "    .dataframe tbody tr th {\n",
       "        vertical-align: top;\n",
       "    }\n",
       "\n",
       "    .dataframe thead th {\n",
       "        text-align: right;\n",
       "    }\n",
       "</style>\n",
       "<table border=\"1\" class=\"dataframe\">\n",
       "  <thead>\n",
       "    <tr style=\"text-align: right;\">\n",
       "      <th></th>\n",
       "      <th>Hours</th>\n",
       "      <th>Scores</th>\n",
       "    </tr>\n",
       "  </thead>\n",
       "  <tbody>\n",
       "    <tr>\n",
       "      <th>20</th>\n",
       "      <td>2.7</td>\n",
       "      <td>30</td>\n",
       "    </tr>\n",
       "    <tr>\n",
       "      <th>21</th>\n",
       "      <td>4.8</td>\n",
       "      <td>54</td>\n",
       "    </tr>\n",
       "    <tr>\n",
       "      <th>22</th>\n",
       "      <td>3.8</td>\n",
       "      <td>35</td>\n",
       "    </tr>\n",
       "    <tr>\n",
       "      <th>23</th>\n",
       "      <td>6.9</td>\n",
       "      <td>76</td>\n",
       "    </tr>\n",
       "    <tr>\n",
       "      <th>24</th>\n",
       "      <td>7.8</td>\n",
       "      <td>86</td>\n",
       "    </tr>\n",
       "  </tbody>\n",
       "</table>\n",
       "</div>"
      ],
      "text/plain": [
       "    Hours  Scores\n",
       "20    2.7      30\n",
       "21    4.8      54\n",
       "22    3.8      35\n",
       "23    6.9      76\n",
       "24    7.8      86"
      ]
     },
     "execution_count": 3,
     "metadata": {},
     "output_type": "execute_result"
    }
   ],
   "source": [
    "df.tail()"
   ]
  },
  {
   "cell_type": "markdown",
   "id": "755ecf30",
   "metadata": {},
   "source": [
    "# Exploring the Data "
   ]
  },
  {
   "cell_type": "code",
   "execution_count": 4,
   "id": "2669d559",
   "metadata": {},
   "outputs": [
    {
     "data": {
      "text/plain": [
       "Text(0.5, 1.0, 'Hours Vs Percentage')"
      ]
     },
     "execution_count": 4,
     "metadata": {},
     "output_type": "execute_result"
    },
    {
     "data": {
      "image/png": "[encoded data removed]",
      "text/plain": [
       "<Figure size 432x288 with 1 Axes>"
      ]
     },
     "metadata": {
      "needs_background": "light"
     },
     "output_type": "display_data"
    }
   ],
   "source": [
    "\n",
    "sns.scatterplot(x='Hours',y='Scores',data=df)\n",
    "plt.xlabel('Hours studied')\n",
    "plt.ylabel('Percentage Score')\n",
    "plt.title('Hours Vs Percentage')\n"
   ]
  },
  {
   "cell_type": "markdown",
   "id": "e8dd8b17",
   "metadata": {},
   "source": [
    "# Preparing the Data "
   ]
  },
  {
   "cell_type": "code",
   "execution_count": 5,
   "id": "85b0d756",
   "metadata": {},
   "outputs": [],
   "source": [
    "x=df.iloc[:,:-1].values    # independent variable\n",
    "y=df.iloc[:,1].values      # dependent variable"
   ]
  },
  {
   "cell_type": "code",
   "execution_count": 6,
   "id": "af50d66c",
   "metadata": {},
   "outputs": [],
   "source": [
    "from sklearn.model_selection import train_test_split\n",
    "x_train, x_test, y_train, y_test = train_test_split(x, y, test_size=0.2)"
   ]
  },
  {
   "cell_type": "code",
   "execution_count": 7,
   "id": "7cc0605b",
   "metadata": {},
   "outputs": [
    {
     "data": {
      "text/plain": [
       "LinearRegression()"
      ]
     },
     "execution_count": 7,
     "metadata": {},
     "output_type": "execute_result"
    }
   ],
   "source": [
    "from sklearn.linear_model import LinearRegression\n",
    "Regressor= LinearRegression()\n",
    "Regressor.fit(x_train,y_train)"
   ]
  },
  {
   "cell_type": "code",
   "execution_count": 8,
   "id": "06cbb7a2",
   "metadata": {},
   "outputs": [
    {
     "data": {
      "text/plain": [
       "3.4581395348837134"
      ]
     },
     "execution_count": 8,
     "metadata": {},
     "output_type": "execute_result"
    }
   ],
   "source": [
    "Regressor.intercept_"
   ]
  },
  {
   "cell_type": "code",
   "execution_count": 9,
   "id": "e43b7d8e",
   "metadata": {},
   "outputs": [
    {
     "data": {
      "text/plain": [
       "array([9.6744186])"
      ]
     },
     "execution_count": 9,
     "metadata": {},
     "output_type": "execute_result"
    }
   ],
   "source": [
    "Regressor.coef_"
   ]
  },
  {
   "cell_type": "code",
   "execution_count": 10,
   "id": "26b68115",
   "metadata": {},
   "outputs": [
    {
     "data": {
      "image/png": "[encoded data removed]",
      "text/plain": [
       "<Figure size 432x288 with 1 Axes>"
      ]
     },
     "metadata": {
      "needs_background": "light"
     },
     "output_type": "display_data"
    }
   ],
   "source": [
    "line=Regressor.intercept_+Regressor.coef_*x\n",
    "\n",
    "\n",
    "##Ploting the data \n",
    "ax = plt.axes() \n",
    "ax.set_facecolor(\"orange\")\n",
    "plt.scatter(x,y)\n",
    "plt.plot(x,line,color='red', linewidth=2)\n",
    "plt.xlabel('x')\n",
    "plt.ylabel('y')\n",
    "plt.title('Regression Equation')\n",
    "plt.grid( color='black',linestyle='--', linewidth=1)\n"
   ]
  },
  {
   "cell_type": "markdown",
   "id": "8940c689",
   "metadata": {},
   "source": [
    "## Making the Predication"
   ]
  },
  {
   "cell_type": "code",
   "execution_count": 11,
   "id": "910a2d6d",
   "metadata": {},
   "outputs": [
    {
     "data": {
      "text/plain": [
       "array([34.41627907, 17.96976744, 52.79767442, 49.89534884, 29.57906977])"
      ]
     },
     "execution_count": 11,
     "metadata": {},
     "output_type": "execute_result"
    }
   ],
   "source": [
    "y_pred=Regressor.predict(x_test)\n",
    "y_pred"
   ]
  },
  {
   "cell_type": "code",
   "execution_count": 12,
   "id": "389676c0",
   "metadata": {},
   "outputs": [
    {
     "data": {
      "text/html": [
       "<div>\n",
       "<style scoped>\n",
       "    .dataframe tbody tr th:only-of-type {\n",
       "        vertical-align: middle;\n",
       "    }\n",
       "\n",
       "    .dataframe tbody tr th {\n",
       "        vertical-align: top;\n",
       "    }\n",
       "\n",
       "    .dataframe thead th {\n",
       "        text-align: right;\n",
       "    }\n",
       "</style>\n",
       "<table border=\"1\" class=\"dataframe\">\n",
       "  <thead>\n",
       "    <tr style=\"text-align: right;\">\n",
       "      <th></th>\n",
       "      <th>Actual</th>\n",
       "      <th>Predicated</th>\n",
       "    </tr>\n",
       "  </thead>\n",
       "  <tbody>\n",
       "    <tr>\n",
       "      <th>0</th>\n",
       "      <td>27</td>\n",
       "      <td>34.416279</td>\n",
       "    </tr>\n",
       "    <tr>\n",
       "      <th>1</th>\n",
       "      <td>20</td>\n",
       "      <td>17.969767</td>\n",
       "    </tr>\n",
       "    <tr>\n",
       "      <th>2</th>\n",
       "      <td>47</td>\n",
       "      <td>52.797674</td>\n",
       "    </tr>\n",
       "    <tr>\n",
       "      <th>3</th>\n",
       "      <td>54</td>\n",
       "      <td>49.895349</td>\n",
       "    </tr>\n",
       "    <tr>\n",
       "      <th>4</th>\n",
       "      <td>25</td>\n",
       "      <td>29.579070</td>\n",
       "    </tr>\n",
       "  </tbody>\n",
       "</table>\n",
       "</div>"
      ],
      "text/plain": [
       "   Actual  Predicated\n",
       "0      27   34.416279\n",
       "1      20   17.969767\n",
       "2      47   52.797674\n",
       "3      54   49.895349\n",
       "4      25   29.579070"
      ]
     },
     "execution_count": 12,
     "metadata": {},
     "output_type": "execute_result"
    }
   ],
   "source": [
    "df=pd.DataFrame({'Actual': y_test,'Predicated':y_pred})\n",
    "df"
   ]
  },
  {
   "cell_type": "code",
   "execution_count": 13,
   "id": "095cc24d",
   "metadata": {},
   "outputs": [
    {
     "data": {
      "text/plain": [
       "0   -7.416279\n",
       "1    2.030233\n",
       "2   -5.797674\n",
       "3    4.104651\n",
       "4   -4.579070\n",
       "dtype: float64"
      ]
     },
     "execution_count": 13,
     "metadata": {},
     "output_type": "execute_result"
    }
   ],
   "source": [
    "error= df['Actual']-df['Predicated']\n",
    "error"
   ]
  },
  {
   "cell_type": "code",
   "execution_count": 14,
   "id": "d0f7bb37",
   "metadata": {},
   "outputs": [
    {
     "name": "stdout",
     "output_type": "stream",
     "text": [
      "No. of hours=[[9.25]]\n",
      "Predicated Score=92.94651162790699\n"
     ]
    }
   ],
   "source": [
    "# we can also test with are own data \n",
    "\n",
    "\n",
    "Hours=[[9.25]]\n",
    "own_pred=Regressor.predict(Hours)\n",
    "print('No. of hours={}'.format(Hours))\n",
    "print('Predicated Score={}'.format(own_pred[0]))"
   ]
  },
  {
   "cell_type": "markdown",
   "id": "3f1dfd3c",
   "metadata": {},
   "source": [
    " ## Evaluating the model"
   ]
  },
  {
   "cell_type": "code",
   "execution_count": 15,
   "id": "9f0c25e1",
   "metadata": {},
   "outputs": [
    {
     "name": "stdout",
     "output_type": "stream",
     "text": [
      "Mean Absoult Error: 4.785581395348837\n"
     ]
    }
   ],
   "source": [
    "from sklearn import metrics\n",
    "print ('Mean Absoult Error:' , \n",
    "      metrics.mean_absolute_error(y_test,y_pred))"
   ]
  },
  {
   "cell_type": "code",
   "execution_count": 16,
   "id": "53698327",
   "metadata": {},
   "outputs": [
    {
     "name": "stdout",
     "output_type": "stream",
     "text": [
      "R_square: 0.9524914447679959\n"
     ]
    }
   ],
   "source": [
    "print('R_square:',\n",
    "     Regressor.score(x,y))"
   ]
  },
  {
   "cell_type": "markdown",
   "id": "fb1065b2",
   "metadata": {},
   "source": [
    "# Thank You"
   ]
  },
  {
   "cell_type": "code",
   "execution_count": null,
   "id": "f5c31367",
   "metadata": {},
   "outputs": [],
   "source": []
  }
 ],
 "metadata": {
  "kernelspec": {
   "display_name": "Python 3",
   "language": "python",
   "name": "python3"
  },
  "language_info": {
   "codemirror_mode": {
    "name": "ipython",
    "version": 3
   },
   "file_extension": ".py",
   "mimetype": "text/x-python",
   "name": "python",
   "nbconvert_exporter": "python",
   "pygments_lexer": "ipython3",
   "version": "3.8.8"
  }
 },
 "nbformat": 4,
 "nbformat_minor": 5
}
